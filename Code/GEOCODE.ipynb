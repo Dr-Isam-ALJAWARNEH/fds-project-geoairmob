{
  "nbformat": 4,
  "nbformat_minor": 0,
  "metadata": {
    "colab": {
      "private_outputs": true,
      "provenance": []
    },
    "kernelspec": {
      "name": "python3",
      "display_name": "Python 3"
    },
    "language_info": {
      "name": "python"
    }
  },
  "cells": [
    {
      "cell_type": "markdown",
      "source": [
        "**Load All Datasets from GitHub**\n"
      ],
      "metadata": {
        "id": "a5xm_N-BqK-G"
      }
    },
    {
      "cell_type": "code",
      "execution_count": null,
      "metadata": {
        "id": "KOLKBg8zkO9l"
      },
      "outputs": [],
      "source": [
        "# Step 0: Install rasterio\n",
        "!pip install rasterio\n",
        "\n",
        "# Step 1: Import libraries\n",
        "import pandas as pd\n",
        "import rasterio\n",
        "import matplotlib.pyplot as plt\n",
        "\n",
        "# Step 2: Define GitHub raw base URL\n",
        "base_url = \"https://raw.githubusercontent.com/Dr-Isam-ALJAWARNEH/fds-project-geoairmob/main/Datasets/\"\n",
        "\n",
        "# Step 3: Load CSV datasets\n",
        "mobility_df = pd.read_csv(base_url + \"AE_Region_Mobility_Report_2020_2022_combined.csv\")\n",
        "openaq_df = pd.read_csv(base_url + \"combined_openaq_measurements.csv\")\n",
        "ericsson_df = pd.read_csv(base_url + \"Merged_Ericsson_Mobility_Data.csv\")\n",
        "landsat_df = pd.read_csv(base_url + \"Landsat_SRTM_Merged_Metadata.csv\")\n",
        "\n",
        "print(\"✅ Datasets loaded:\")\n",
        "print(\"Mobility:\", mobility_df.shape)\n",
        "print(\"OpenAQ:\", openaq_df.shape)\n",
        "print(\"Ericsson:\", ericsson_df.shape)\n",
        "print(\"Landsat:\", landsat_df.shape)\n",
        "\n",
        "# Step 4: Visualize raster\n",
        "tif_url = \"/vsicurl/https://github.com/Dr-Isam-ALJAWARNEH/fds-project-geoairmob/raw/main/Datasets/UAE_NO2_SO2_Aerosol_Combined_2020_2022.tif\"\n",
        "\n",
        "with rasterio.open(tif_url) as src:\n",
        "    img = src.read(1)\n",
        "    plt.imshow(img, cmap='plasma')\n",
        "    plt.title(\"NO₂/SO₂/Aerosol - UAE (2020–2022)\")\n",
        "    plt.colorbar()\n",
        "    plt.show()\n",
        "\n"
      ]
    },
    {
      "cell_type": "markdown",
      "source": [
        "# **Phase One:** A historical analysis using accurate, observed data from 2020 to 2022"
      ],
      "metadata": {
        "id": "Y6WrhfhBF0Q1"
      }
    },
    {
      "cell_type": "markdown",
      "source": [
        "**Install Geohash Library in Colab**"
      ],
      "metadata": {
        "id": "GhhCFwCOqVwh"
      }
    },
    {
      "cell_type": "code",
      "source": [
        "!pip install geohash2\n"
      ],
      "metadata": {
        "id": "VmyRKkkZmfKE"
      },
      "execution_count": null,
      "outputs": []
    },
    {
      "cell_type": "markdown",
      "source": [
        "**Generate Geohashes for OpenAQ Data**"
      ],
      "metadata": {
        "id": "_Kt2i6XynRCB"
      }
    },
    {
      "cell_type": "code",
      "source": [
        "openaq_df.columns\n"
      ],
      "metadata": {
        "id": "HeKUw_RamvKU"
      },
      "execution_count": null,
      "outputs": []
    },
    {
      "cell_type": "code",
      "source": [
        "import geohash2\n",
        "\n",
        "# Recalculate geohash with 5-character precision (~3km)\n",
        "openaq_df['geohash'] = openaq_df.apply(\n",
        "    lambda row: geohash2.encode(row['latitude'], row['longitude'], precision=5),\n",
        "    axis=1\n",
        ")\n"
      ],
      "metadata": {
        "id": "wm6lJTLCs-j4"
      },
      "execution_count": null,
      "outputs": []
    },
    {
      "cell_type": "code",
      "source": [
        "# Group by geohash and pollutant type (e.g., NO2, PM2.5)\n",
        "pollution_summary = openaq_df.groupby(['geohash', 'parameter'])['value'].mean().unstack()\n",
        "\n",
        "# Clean table\n",
        "pollution_summary = pollution_summary.reset_index()\n",
        "pollution_summary.head()\n"
      ],
      "metadata": {
        "id": "lzlcWL1RtCwV"
      },
      "execution_count": null,
      "outputs": []
    },
    {
      "cell_type": "code",
      "source": [
        "# Count unique geohashes\n",
        "unique_pollution_geohashes = pollution_summary['geohash'].nunique()\n",
        "\n",
        "print(f\"✅ Number of unique geohash zones in the pollution dataset: {unique_pollution_geohashes}\")\n"
      ],
      "metadata": {
        "id": "4Hy-FqZ57VZ4"
      },
      "execution_count": null,
      "outputs": []
    },
    {
      "cell_type": "code",
      "source": [
        "print(\"🔍 Sample geohash zones:\", pollution_summary['geohash'].unique()[:18])\n"
      ],
      "metadata": {
        "id": "4HBc4cvk7ZUm"
      },
      "execution_count": null,
      "outputs": []
    },
    {
      "cell_type": "markdown",
      "source": [
        "**View Mobility Data**"
      ],
      "metadata": {
        "id": "6gnehoDznY4c"
      }
    },
    {
      "cell_type": "code",
      "source": [
        "mobility_df.columns\n",
        "mobility_df.head()\n"
      ],
      "metadata": {
        "id": "bez3TfvOnh6D"
      },
      "execution_count": null,
      "outputs": []
    },
    {
      "cell_type": "code",
      "source": [
        "import numpy as np\n",
        "\n",
        "# Format: (lat_min, lat_max, lon_min, lon_max)\n",
        "city_bboxes = {\n",
        "    \"Dubai\": (25.0, 25.3, 55.2, 55.4),\n",
        "    \"Abu Dhabi\": (24.2, 24.6, 54.3, 54.6),\n",
        "    \"Sharjah\": (25.25, 25.45, 55.35, 55.5),\n",
        "    \"Al Ain\": (24.1, 24.3, 55.6, 55.8),\n",
        "    \"Ajman\": (25.35, 25.45, 55.45, 55.5),\n",
        "    \"Fujairah\": (25.05, 25.2, 56.25, 56.4),\n",
        "    \"Ras Al Khaimah\": (25.7, 25.85, 55.85, 56.0),\n",
        "    \"Umm Al Quwain\": (25.5, 25.6, 55.5, 55.6),\n",
        "}\n"
      ],
      "metadata": {
        "id": "smjLlwwguufH"
      },
      "execution_count": null,
      "outputs": []
    },
    {
      "cell_type": "code",
      "source": [
        "# Define place_id to city mapping\n",
        "placeid_to_city = {\n",
        "    \"ChIJvRKrsd9IXj4RpwoIwFYv0zM\": \"Dubai\",\n",
        "    \"ChIJGczaTT5mXj4RBNmakTvGr4s\": \"Abu Dhabi\",\n",
        "    \"ChIJHwyp6rZXXz4RerixWbtcrRE\": \"Sharjah\",\n",
        "    \"ChIJRcbZaklDXz4R6SkAK7_QznQ\": \"Al Ain\",\n",
        "    \"ChIJX7kokD0y9D4RvDyz2xuxwaY\": \"Ajman\",\n",
        "    \"ChIJpwnSTA5x9j4RD-KEpgxnnrk\": \"Fujairah\",\n",
        "    \"ChIJ0Zp9hY5ZXz4RZlq4HHZvx2g\": \"Ras Al Khaimah\",\n",
        "    \"ChIJP-14gXD99T4RGDyAmyB_vKE\": \"Umm Al Quwain\"\n",
        "}\n",
        "\n",
        "# Assign city based on place_id\n",
        "mobility_df['city'] = mobility_df['place_id'].map(placeid_to_city)\n"
      ],
      "metadata": {
        "id": "5zu5md0057fO"
      },
      "execution_count": null,
      "outputs": []
    },
    {
      "cell_type": "code",
      "source": [
        "def get_random_coords(city):\n",
        "    if city in city_bboxes:\n",
        "        lat_min, lat_max, lon_min, lon_max = city_bboxes[city]\n",
        "        lat = np.random.uniform(lat_min, lat_max)\n",
        "        lon = np.random.uniform(lon_min, lon_max)\n",
        "        return pd.Series([lat, lon])\n",
        "    return pd.Series([None, None])\n",
        "\n",
        "# Apply to each row\n",
        "mobility_df[['latitude', 'longitude']] = mobility_df['city'].apply(get_random_coords)\n"
      ],
      "metadata": {
        "id": "kfEasQZ_xPJc"
      },
      "execution_count": null,
      "outputs": []
    },
    {
      "cell_type": "code",
      "source": [
        "import geohash2\n",
        "\n",
        "# Compute geohash from synthetic lat/lon\n",
        "mobility_df['geohash'] = mobility_df.apply(\n",
        "    lambda row: geohash2.encode(row['latitude'], row['longitude'], precision=5),\n",
        "    axis=1\n",
        ")\n"
      ],
      "metadata": {
        "id": "dmFhr53M56Tn"
      },
      "execution_count": null,
      "outputs": []
    },
    {
      "cell_type": "code",
      "source": [
        "# Create composite mobility score\n",
        "mobility_df['mobility_score'] = mobility_df[\n",
        "    ['transit_stations_percent_change_from_baseline', 'workplaces_percent_change_from_baseline']\n",
        "].mean(axis=1)\n",
        "\n",
        "# Group by geohash\n",
        "mobility_summary = mobility_df.groupby('geohash')['mobility_score'].mean().reset_index()\n"
      ],
      "metadata": {
        "id": "MOEhfgLo6M3i"
      },
      "execution_count": null,
      "outputs": []
    },
    {
      "cell_type": "code",
      "source": [
        "# Count unique geohash zones in mobility dataset\n",
        "unique_mobility_geohashes = mobility_summary['geohash'].nunique()\n",
        "\n",
        "print(f\" Number of unique geohash zones in the mobility dataset: {unique_mobility_geohashes}\")\n"
      ],
      "metadata": {
        "id": "Uau8b1b18Cvl"
      },
      "execution_count": null,
      "outputs": []
    },
    {
      "cell_type": "code",
      "source": [
        "print(\" Sample mobility geohash zones:\", mobility_summary['geohash'].unique()[:217])\n"
      ],
      "metadata": {
        "id": "FgfVtH1z8NPO"
      },
      "execution_count": null,
      "outputs": []
    },
    {
      "cell_type": "code",
      "source": [
        "# Convert to lowercase to ensure consistency\n",
        "pollution_summary['geohash'] = pollution_summary['geohash'].str.lower()\n",
        "mobility_summary['geohash'] = mobility_summary['geohash'].str.lower()\n",
        "\n",
        "# Get unique geohash sets\n",
        "pollution_geos = set(pollution_summary['geohash'].unique())\n",
        "mobility_geos = set(mobility_summary['geohash'].unique())\n",
        "\n",
        "# Get the intersection\n",
        "common_geos = pollution_geos & mobility_geos\n",
        "\n",
        "print(f\" Geohashes in both datasets: {len(common_geos)}\")\n",
        "print(\" Common geohashes:\", sorted(list(common_geos)))\n"
      ],
      "metadata": {
        "id": "SE-VaNsO8cbf"
      },
      "execution_count": null,
      "outputs": []
    },
    {
      "cell_type": "code",
      "source": [
        "filtered_df = merged_df[merged_df['geohash'].isin(common_geos)].copy()\n",
        "print(filtered_df.shape)\n",
        "filtered_df.head(10)\n"
      ],
      "metadata": {
        "id": "aX99ZPjA8pNT"
      },
      "execution_count": null,
      "outputs": []
    },
    {
      "cell_type": "code",
      "source": [
        "merged_df.dtypes\n"
      ],
      "metadata": {
        "id": "jQriI-UJ6x53"
      },
      "execution_count": null,
      "outputs": []
    },
    {
      "cell_type": "code",
      "source": [
        "merged_df.to_csv(\"uae_mobility_pollution_merged.csv\", index=False)\n"
      ],
      "metadata": {
        "id": "sMkQddDu66QE"
      },
      "execution_count": null,
      "outputs": []
    },
    {
      "cell_type": "markdown",
      "source": [
        "**Convert to Table Abstraction**"
      ],
      "metadata": {
        "id": "74XXFm-k9Wdt"
      }
    },
    {
      "cell_type": "code",
      "source": [
        "from datascience import *\n",
        "\n",
        "# Use your actual merged DataFrame\n",
        "joined_table = Table().from_df(merged_common)\n",
        "\n",
        "# Preview the table\n",
        "joined_table.show(5)\n",
        "\n"
      ],
      "metadata": {
        "id": "FXYmPGx-_drz"
      },
      "execution_count": null,
      "outputs": []
    },
    {
      "cell_type": "code",
      "source": [
        "# Show all available columns\n",
        "joined_table.labels\n"
      ],
      "metadata": {
        "id": "LA1Lh0WMAMMz"
      },
      "execution_count": null,
      "outputs": []
    },
    {
      "cell_type": "markdown",
      "source": [
        "## **EDA**"
      ],
      "metadata": {
        "id": "p65yDwafFHJi"
      }
    },
    {
      "cell_type": "markdown",
      "source": [
        "**Summary Stats Table**\n",
        "\n",
        "\n"
      ],
      "metadata": {
        "id": "DYb7DEe9AWEs"
      }
    },
    {
      "cell_type": "code",
      "source": [
        "# Select columns for summary\n",
        "summary_table = joined_table.select('no2', 'pm25', 'pm10', 'mobility_score')\n",
        "\n",
        "# Show descriptive stats\n",
        "summary_table.stats()\n"
      ],
      "metadata": {
        "id": "49qn4F8fAZXe"
      },
      "execution_count": null,
      "outputs": []
    },
    {
      "cell_type": "markdown",
      "source": [
        "Zones Exceeding NO₂ Limit (WHO = 40 µg/m³)"
      ],
      "metadata": {
        "id": "tQ03yAgyAeOT"
      }
    },
    {
      "cell_type": "code",
      "source": [
        "# Find high-pollution zones\n",
        "high_no2 = joined_table.where('no2', are.above(40))\n",
        "\n",
        "# How many?\n",
        "print(\" Zones exceeding NO₂ threshold:\", high_no2.num_rows)\n",
        "\n",
        "# Preview\n",
        "high_no2.select('geohash', 'no2', 'mobility_score').show(5)\n"
      ],
      "metadata": {
        "id": "-uLyBy8GAbCj"
      },
      "execution_count": null,
      "outputs": []
    },
    {
      "cell_type": "markdown",
      "source": [
        "thqf4 is a critical hotspot — both highest NO₂ and high mobility change."
      ],
      "metadata": {
        "id": "qDnwzqP4A02y"
      }
    },
    {
      "cell_type": "markdown",
      "source": [
        "**Visualize Pollution vs Mobility (Scatterplot)**"
      ],
      "metadata": {
        "id": "qo03s9_zBBBu"
      }
    },
    {
      "cell_type": "code",
      "source": [
        "import matplotlib.pyplot as plt\n",
        "\n",
        "# Filter out missing values manually\n",
        "filtered = joined_table.where('no2', are.not_equal_to(float('nan')))\n",
        "filtered = filtered.where('mobility_score', are.not_equal_to(float('nan')))\n",
        "\n",
        "# Extract columns as arrays\n",
        "x = filtered.column('mobility_score')\n",
        "y = filtered.column('no2')\n",
        "\n",
        "# Plot\n",
        "plt.figure(figsize=(10, 7))\n",
        "plt.scatter(x, y, color='teal', edgecolor='black', s=100, alpha=0.8)\n",
        "\n",
        "# Add WHO guideline line\n",
        "plt.axhline(40, color='red', linestyle='--', linewidth=2, label='WHO NO₂ Limit (40 µg/m³)')\n",
        "\n",
        "# Labels and title\n",
        "plt.title(\"NO₂ vs Mobility Score (UAE Urban Zones)\", fontsize=16)\n",
        "plt.xlabel(\"Mobility Score (% Change from Baseline)\", fontsize=12)\n",
        "plt.ylabel(\"NO₂ Concentration (µg/m³)\", fontsize=12)\n",
        "\n",
        "# Legend and formatting\n",
        "plt.legend(fontsize=10)\n",
        "plt.grid(True)\n",
        "plt.tight_layout()\n",
        "plt.show()\n"
      ],
      "metadata": {
        "id": "qDW5I21aCQEE"
      },
      "execution_count": null,
      "outputs": []
    },
    {
      "cell_type": "markdown",
      "source": [
        "Our analysis revealed a general inverse relationship between NO₂ concentrations and mobility score across urban geohash zones. However, some zones (e.g., thqf4) exhibited persistently high NO₂ levels despite substantial mobility reductions, suggesting the presence of non-traffic-related pollution sources such as industrial or construction activity"
      ],
      "metadata": {
        "id": "rD3imle6DdFL"
      }
    },
    {
      "cell_type": "markdown",
      "source": [
        "**Correlation Heatmap**"
      ],
      "metadata": {
        "id": "LucFzLzRD5og"
      }
    },
    {
      "cell_type": "code",
      "source": [
        "# Select relevant columns\n",
        "corr_table = joined_table.select(\n",
        "    'no2', 'pm10', 'pm25',\n",
        "    'temperature', 'relativehumidity',\n",
        "    'so2', 'mobility_score'\n",
        ")\n"
      ],
      "metadata": {
        "id": "49ctAp4bD-a6"
      },
      "execution_count": null,
      "outputs": []
    },
    {
      "cell_type": "code",
      "source": [
        "corr_df.isna().sum()\n"
      ],
      "metadata": {
        "id": "_flsmEZmESDX"
      },
      "execution_count": null,
      "outputs": []
    },
    {
      "cell_type": "code",
      "source": [
        "# Step 1: Keep only columns with at least 5 non-NaN values\n",
        "valid_corr_df = corr_df.loc[:, corr_df.notna().sum() >= 5]\n",
        "\n",
        "# Step 2: Drop rows that still contain NaNs\n",
        "valid_corr_df = valid_corr_df.dropna()\n",
        "\n",
        "# Step 3: Plot the heatmap\n",
        "import seaborn as sns\n",
        "import matplotlib.pyplot as plt\n",
        "\n",
        "plt.figure(figsize=(8, 6))\n",
        "sns.heatmap(valid_corr_df.corr(), annot=True, cmap='coolwarm', linewidths=0.5)\n",
        "plt.title(\"📊 Correlation Heatmap (Filtered)\", fontsize=14)\n",
        "plt.tight_layout()\n",
        "plt.show()\n"
      ],
      "metadata": {
        "id": "8BHolJA3EdiF"
      },
      "execution_count": null,
      "outputs": []
    },
    {
      "cell_type": "markdown",
      "source": [
        "The heatmap reveals a moderate inverse correlation (r = -0.56) between mobility score and NO₂ concentrations, supporting the role of traffic-related emissions in shaping urban air quality. However, weaker or absent correlations with PM10 and SO₂ suggest the presence of non-mobility-related pollution sources, underscoring the need for multi-sectoral air quality interventions."
      ],
      "metadata": {
        "id": "YJGRhMwTEr_2"
      }
    }
  ]
}